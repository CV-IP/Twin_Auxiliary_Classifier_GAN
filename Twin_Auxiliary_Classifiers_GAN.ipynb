{
 "cells": [
  {
   "cell_type": "code",
   "execution_count": 11,
   "metadata": {
    "slideshow": {
     "slide_type": "slide"
    }
   },
   "outputs": [],
   "source": [
    "# Initialization of libraries\n",
    "import torch\n",
    "import torch.nn\n",
    "import torch.nn as nn\n",
    "import torch.autograd as autograd\n",
    "from torch.autograd import Variable\n",
    "import torch.optim as optim\n",
    "import torchvision\n",
    "import torchvision.transforms as transforms\n",
    "\n",
    "import numpy.random\n",
    "import numpy as np\n",
    "import matplotlib.pyplot as plt\n",
    "import matplotlib.gridspec as gridspec\n",
    "import scipy.stats as ss\n",
    "import os\n",
    "\n",
    "from tqdm import tqdm \n",
    "import random\n",
    "from sklearn.mixture import GMM\n",
    "device = torch.device('cuda')\n",
    "%matplotlib inline"
   ]
  },
  {
   "cell_type": "code",
   "execution_count": 12,
   "metadata": {},
   "outputs": [],
   "source": [
    "# defining parameters for the training\n",
    "mb_size = 256 # Batch Size\n",
    "Z_dim = 64  # Length of noise vector\n",
    "X_dim = 1  # Input Length\n",
    "y_dim = 3  # Number of classes\n",
    "h_dim = 10  # Hidden Dimension\n",
    "lr = 2e-4    # Learning Rate"
   ]
  },
  {
   "cell_type": "code",
   "execution_count": 13,
   "metadata": {},
   "outputs": [],
   "source": [
    "def one_hot_embedding(labels, num_classes=3):\n",
    "    \"\"\"Embedding labels to one-hot form.\n",
    "\n",
    "    Args:\n",
    "      labels: (LongTensor) class labels, sized [N,].\n",
    "      num_classes: (int) number of classes.\n",
    "\n",
    "    Returns:\n",
    "      (tensor) encoded labels, sized [N, #classes].\n",
    "    \"\"\"\n",
    "    y = torch.eye(num_classes) \n",
    "    return y[labels] \n"
   ]
  },
  {
   "cell_type": "code",
   "execution_count": 14,
   "metadata": {},
   "outputs": [
    {
     "data": {
      "image/png": "[encoded data removed]",
      "text/plain": [
       "<matplotlib.figure.Figure at 0x1510ea4cbcd0>"
      ]
     },
     "metadata": {},
     "output_type": "display_data"
    }
   ],
   "source": [
    "#https://stackoverflow.com/questions/49106806/how-to-do-a-simple-gaussian-mixture-sampling-and-pdf-plotting-with-numpy-scipy\n",
    "\n",
    "#Number of data points that needs to be sampled\n",
    "n = 200000\n",
    "numpy.random.seed(0x5eed)\n",
    "# Parameters of the mixture components\n",
    "\n",
    "# Mean and standard deviation of the gaussian\n",
    "norm_params = np.array([[0, 1],\n",
    "                        [3, 2],\n",
    "                        [6, 3]])\n",
    "\n",
    "# Number of components for the mixture of gaussian(MoG)\n",
    "n_components = norm_params.shape[0]\n",
    "\n",
    "# Weight of each component, in this case all of them are 1/3\n",
    "weights = np.ones(n_components, dtype=np.float64) / 3.0\n",
    "\n",
    "# A stream of indices from which to choose the component\n",
    "mixture_idx = numpy.random.choice(len(weights), size=n, replace=True, p=weights)\n",
    "\n",
    "# y is the mixture sample\n",
    "y = np.fromiter((ss.norm.rvs(*(norm_params[i])) for i in mixture_idx),dtype=np.float64)\n",
    "\n",
    "plt.hist(y, normed=True, bins=\"fd\")\n",
    "plt.xlabel(\"x\")\n",
    "plt.ylabel(\"f(x)\")\n",
    "plt.show()"
   ]
  },
  {
   "cell_type": "code",
   "execution_count": 15,
   "metadata": {},
   "outputs": [],
   "source": [
    "# Normalization of the input data between 0-1\n",
    "y_copy = y\n",
    "data = (y - y.min())/(y.max()-y.min())\n",
    "# Corresponding classes for each data point\n",
    "g_classes = mixture_idx"
   ]
  },
  {
   "cell_type": "code",
   "execution_count": 16,
   "metadata": {
    "slideshow": {
     "slide_type": "slide"
    }
   },
   "outputs": [],
   "source": [
    "# Generator Network\n",
    "G = torch.nn.Sequential(\n",
    "    torch.nn.Linear(Z_dim + y_dim, h_dim),\n",
    "    torch.nn.PReLU(),\n",
    "    torch.nn.Linear(h_dim, h_dim),\n",
    "    torch.nn.PReLU(),\n",
    "    torch.nn.Linear(h_dim, X_dim),\n",
    "    torch.nn.Sigmoid()\n",
    ")\n",
    "\n",
    "# Initializing discriminator networks\n",
    "\n",
    "# Discriminator network for classifying real/fake.\n",
    "D_gan = torch.nn.Sequential(\n",
    "    torch.nn.Linear(X_dim, h_dim),\n",
    "    torch.nn.LeakyReLU(0.2),\n",
    "    torch.nn.Linear(h_dim, h_dim),\n",
    "    torch.nn.LeakyReLU(0.2),\n",
    "    torch.nn.Linear(h_dim, 1),\n",
    "    torch.nn.Sigmoid()\n",
    ")\n",
    "\n",
    "# Discriminator network for classifying a sample to its corresponding classes.\n",
    "D_aux = torch.nn.Sequential(\n",
    "    torch.nn.Linear(X_dim, h_dim),\n",
    "    torch.nn.LeakyReLU(0.2),\n",
    "    torch.nn.Linear(h_dim, h_dim),\n",
    "    torch.nn.LeakyReLU(0.2),\n",
    "    torch.nn.Linear(h_dim, y_dim)\n",
    ")\n",
    "\n",
    "# Discriminator network for classifying a generator sample to its corresponding classes.\n",
    "TD_aux = torch.nn.Sequential(\n",
    "    torch.nn.Linear(X_dim, h_dim),\n",
    "    torch.nn.LeakyReLU(0.2),\n",
    "    torch.nn.Linear(h_dim, h_dim),\n",
    "    torch.nn.LeakyReLU(0.2),\n",
    "    torch.nn.Linear(h_dim, y_dim)\n",
    ")\n",
    "\n",
    "# Porting the model to GPU.\n",
    "G = G.cuda()\n",
    "D_gan = D_gan.cuda()\n",
    "D_aux = D_aux.cuda()\n",
    "TD_aux = TD_aux.cuda()"
   ]
  },
  {
   "cell_type": "code",
   "execution_count": 17,
   "metadata": {
    "slideshow": {
     "slide_type": "slide"
    }
   },
   "outputs": [],
   "source": [
    "# Init. the optimizer for each network.\n",
    "G_solver = optim.Adam(G.parameters(), lr,  betas=(0.0, 0.999))\n",
    "D_solver = optim.Adam((list(D_gan.parameters()) + list(D_aux.parameters())), lr,  betas=(0.0, 0.999))\n",
    "TD_solver = optim.Adam(TD_aux.parameters(), lr,  betas=(0.0, 0.999))\n",
    "\n",
    "# Init. the loss function.\n",
    "adversarial_loss = torch.nn.BCELoss()\n",
    "auxiliary_loss = torch.nn.CrossEntropyLoss()\n",
    "\n",
    "# zero and one labels\n",
    "ones_label = torch.ones(mb_size,1)\n",
    "zeros_label = torch.zeros(mb_size,1)\n",
    "ones_label = ones_label.to(device)\n",
    "zeros_label = zeros_label.to(device)"
   ]
  },
  {
   "cell_type": "code",
   "execution_count": 18,
   "metadata": {},
   "outputs": [],
   "source": [
    "# Reset the gradients to zero\n",
    "params = [G, D_gan, D_aux,TD_aux]\n",
    "def reset_grad():\n",
    "    for net in params:\n",
    "        net.zero_grad()"
   ]
  },
  {
   "cell_type": "code",
   "execution_count": 19,
   "metadata": {},
   "outputs": [
    {
     "name": "stderr",
     "output_type": "stream",
     "text": [
      "100%|██████████| 25000/25000 [14:31<00:00, 28.68it/s]\n"
     ]
    }
   ],
   "source": [
    "data_index = 0\n",
    "\n",
    "for it in tqdm(range(25000)):\n",
    "    \n",
    "    # ###\n",
    "    if ((data_index + 1)*mb_size>len(data)):\n",
    "        data_index = 0\n",
    "    # ###\n",
    "    for diter in range(10):\n",
    "        z = torch.FloatTensor(mb_size, Z_dim).uniform_(-1, 1)\n",
    "        X = torch.from_numpy(np.array(data[data_index*mb_size : (data_index + 1)*mb_size]))\n",
    "        X = X.view(mb_size, 1)\n",
    "        X = X.type(torch.FloatTensor)\n",
    "\n",
    "        y = torch.from_numpy(np.array(g_classes[data_index*mb_size : (data_index + 1)*mb_size]))\n",
    "\n",
    "\n",
    "        y_one_hot = one_hot_embedding(y)\n",
    "        y_one_hot = y_one_hot.type(torch.FloatTensor)\n",
    "        y = y.type(torch.LongTensor)\n",
    "\n",
    "        X = X.to(device)\n",
    "        z = z.to(device)\n",
    "\n",
    "        y_one_hot = y_one_hot.to(device)\n",
    "        y = y.to(device)\n",
    "\n",
    "        # Dicriminator forward-loss-backward-update\n",
    "        #forward pass\n",
    "        G_sample = G(torch.cat([z, y_one_hot], 1))\n",
    "\n",
    "        D_real_gan = D_gan(X)\n",
    "        D_real_aux = D_aux(X)\n",
    "\n",
    "        D_fake_gan = D_gan(G_sample)\n",
    "        D_fake_aux = D_aux(G_sample)\n",
    "\n",
    "        # Calculate the loss\n",
    "        D_loss_real = adversarial_loss(D_real_gan, ones_label) + auxiliary_loss(D_real_aux, y) \n",
    "        D_loss_fake = adversarial_loss(D_fake_gan, zeros_label) + auxiliary_loss(D_fake_aux, y) \n",
    "        \n",
    "        D_loss = D_loss_real + D_loss_fake\n",
    "\n",
    "        # Calulate and update gradients of discriminator\n",
    "        D_loss.backward()\n",
    "        D_solver.step()\n",
    "\n",
    "        # reset gradient\n",
    "        reset_grad()\n",
    "    \n",
    "    # Generator forward-loss-backward-update\n",
    "\n",
    "    G_sample = G(torch.cat([z, y_one_hot], 1))\n",
    "    \n",
    "    D_fake_gan = D_gan(G_sample)\n",
    "    D_fake_aux = D_aux(G_sample) \n",
    "    D_real_aux = D_aux(X)\n",
    "    \n",
    "    TD_fake_aux = TD_aux(G_sample)\n",
    "    \n",
    "    G_loss = adversarial_loss(D_fake_gan, ones_label) + auxiliary_loss(TD_fake_aux, y) + auxiliary_loss(D_real_aux, y) + auxiliary_loss(D_fake_aux, y)\n",
    "\n",
    "    G_loss.backward()\n",
    "    G_solver.step()\n",
    "    TD_solver.step()\n",
    "    # reset gradient\n",
    "    reset_grad()\n",
    "\n",
    "    data_index = data_index + 1\n",
    "    # Print and plot every now and then\n",
    "    #if it % 500 == 0:\n",
    "    #    print('Iter-{}; D_loss: {}; G_loss: {}'.format(it, D_loss.data.cpu().numpy(), G_loss.data.cpu().numpy()))"
   ]
  },
  {
   "cell_type": "code",
   "execution_count": 20,
   "metadata": {},
   "outputs": [
    {
     "data": {
      "image/png": "[encoded data removed]",
      "text/plain": [
       "<matplotlib.figure.Figure at 0x1510dedf3f50>"
      ]
     },
     "metadata": {},
     "output_type": "display_data"
    }
   ],
   "source": [
    "final = np.zeros(1500*mb_size, dtype = float)\n",
    "for i in range(1500):\n",
    "\n",
    "    z = torch.FloatTensor(mb_size, Z_dim).uniform_(-1, 1)\n",
    "    z = z.to(device)\n",
    "\n",
    "    y = torch.randint(0, 3, (mb_size,)).type(torch.LongTensor)\n",
    "    y_one_hot = one_hot_embedding(y)\n",
    "    y_one_hot = y_one_hot.type(torch.FloatTensor)\n",
    "    y_one_hot = y_one_hot.to(device)\n",
    "    l = G(torch.cat([z,y_one_hot], 1)).cpu().detach().numpy()\n",
    "    final[i*mb_size : ((i+ 1)*mb_size -1)] = l[0]\n",
    "\n",
    "final = y_copy.min() + final*(y_copy.max()-y_copy.min())\n",
    "fig, ax = plt.subplots( nrows=1, ncols=1 )\n",
    "p1 = plt.hist(final, 100, normed=True, histtype='stepfilled', alpha=0.5)\n",
    "p2 = plt.hist(y_copy, 100, normed=True, histtype='stepfilled', alpha=0.5)"
   ]
  }
 ],
 "metadata": {
  "celltoolbar": "Slideshow",
  "kernelspec": {
   "display_name": "Python 2",
   "language": "python",
   "name": "python2"
  },
  "language_info": {
   "codemirror_mode": {
    "name": "ipython",
    "version": 2
   },
   "file_extension": ".py",
   "mimetype": "text/x-python",
   "name": "python",
   "nbconvert_exporter": "python",
   "pygments_lexer": "ipython2",
   "version": "2.7.12"
  }
 },
 "nbformat": 4,
 "nbformat_minor": 2
}
