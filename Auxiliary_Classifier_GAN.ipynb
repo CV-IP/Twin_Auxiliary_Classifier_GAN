{
 "cells": [
  {
   "cell_type": "code",
   "execution_count": 1,
   "metadata": {
    "slideshow": {
     "slide_type": "slide"
    }
   },
   "outputs": [],
   "source": [
    "# Initialization of libraries\n",
    "import torch\n",
    "import torch.nn\n",
    "import torch.nn as nn\n",
    "import torch.autograd as autograd\n",
    "from torch.autograd import Variable\n",
    "import torch.optim as optim\n",
    "import torchvision\n",
    "import torchvision.transforms as transforms\n",
    "\n",
    "import numpy.random\n",
    "import numpy as np\n",
    "import matplotlib.pyplot as plt\n",
    "import matplotlib.gridspec as gridspec\n",
    "import scipy.stats as ss\n",
    "import os\n",
    "\n",
    "from tqdm import tqdm\n",
    "import random\n",
    "from sklearn.mixture import GMM\n",
    "device = torch.device('cuda')\n",
    "%matplotlib inline"
   ]
  },
  {
   "cell_type": "code",
   "execution_count": 2,
   "metadata": {},
   "outputs": [],
   "source": [
    "# defining parameters for the training\n",
    "mb_size = 256 # Batch Size\n",
    "Z_dim = 64  # Length of noise vector\n",
    "X_dim = 1  # Input Length\n",
    "y_dim = 3\n",
    "h_dim = 10  # Hidden Dimension\n",
    "lr = 2e-4    # Learning Rate"
   ]
  },
  {
   "cell_type": "code",
   "execution_count": 3,
   "metadata": {},
   "outputs": [],
   "source": [
    "def one_hot_embedding(labels, num_classes=3):\n",
    "    \"\"\"Embedding labels to one-hot form.\n",
    "\n",
    "    Args:\n",
    "      labels: (LongTensor) class labels, sized [N,].\n",
    "      num_classes: (int) number of classes.\n",
    "\n",
    "    Returns:\n",
    "      (tensor) encoded labels, sized [N, #classes].\n",
    "    \"\"\"\n",
    "    y = torch.eye(num_classes) \n",
    "    return y[labels] \n"
   ]
  },
  {
   "cell_type": "code",
   "execution_count": 4,
   "metadata": {},
   "outputs": [
    {
     "data": {
      "image/png": "[encoded data removed]",
      "text/plain": [
       "<matplotlib.figure.Figure at 0x145fd793ee50>"
      ]
     },
     "metadata": {},
     "output_type": "display_data"
    }
   ],
   "source": [
    "#https://stackoverflow.com/questions/49106806/how-to-do-a-simple-gaussian-mixture-sampling-and-pdf-plotting-with-numpy-scipy\n",
    "\n",
    "n = 200000\n",
    "numpy.random.seed(0x5eed)\n",
    "# Parameters of the mixture components\n",
    "\n",
    "norm_params = np.array([[0, 1],\n",
    "                        [3, 2],\n",
    "                        [6, 3]])\n",
    "\n",
    "n_components = norm_params.shape[0]\n",
    "# Weight of each component, in this case all of them are 1/3\n",
    "weights = np.ones(n_components, dtype=np.float64) / 3.0\n",
    "# A stream of indices from which to choose the component\n",
    "mixture_idx = numpy.random.choice(len(weights), size=n, replace=True, p=weights)\n",
    "# y is the mixture sample\n",
    "y = numpy.fromiter((ss.norm.rvs(*(norm_params[i])) for i in mixture_idx),dtype=np.float64)\n",
    "\n",
    "#Theoretical PDF plotting -- generate the x and y plotting positions\n",
    "# xs = np.linspace(y.min(), y.max(), 200000)\n",
    "# ys = np.zeros_like(xs)\n",
    "\n",
    "# for (l, s), w in zip(norm_params, weights):\n",
    "#     ys += ss.norm.pdf(xs, loc=l, scale=s) * w\n",
    "\n",
    "#plt.plot(y)\n",
    "plt.hist(y, normed=True, bins=\"fd\")\n",
    "plt.xlabel(\"x\")\n",
    "plt.ylabel(\"f(x)\")\n",
    "plt.show()"
   ]
  },
  {
   "cell_type": "code",
   "execution_count": 5,
   "metadata": {},
   "outputs": [],
   "source": [
    "y_copy = y\n",
    "data = (y - y.min())/(y.max()-y.min())\n",
    "g_classes = mixture_idx"
   ]
  },
  {
   "cell_type": "code",
   "execution_count": 6,
   "metadata": {
    "slideshow": {
     "slide_type": "slide"
    }
   },
   "outputs": [],
   "source": [
    "G = torch.nn.Sequential(\n",
    "    torch.nn.Linear(Z_dim + y_dim, h_dim),\n",
    "    torch.nn.PReLU(),\n",
    "    torch.nn.Linear(h_dim, h_dim),\n",
    "    torch.nn.PReLU(),\n",
    "    torch.nn.Linear(h_dim, X_dim),\n",
    "    torch.nn.Sigmoid()\n",
    ")\n",
    "\n",
    "D_gan = torch.nn.Sequential(\n",
    "    torch.nn.Linear(X_dim, h_dim),\n",
    "    torch.nn.LeakyReLU(0.2),\n",
    "    torch.nn.Linear(h_dim, h_dim),\n",
    "    torch.nn.LeakyReLU(0.2),\n",
    "    torch.nn.Linear(h_dim, 1),\n",
    "    torch.nn.Sigmoid()\n",
    ")\n",
    "\n",
    "D_aux = torch.nn.Sequential(\n",
    "    torch.nn.Linear(X_dim, h_dim),\n",
    "    torch.nn.LeakyReLU(0.2),\n",
    "    torch.nn.Linear(h_dim, h_dim),\n",
    "    torch.nn.LeakyReLU(0.2),\n",
    "    torch.nn.Linear(h_dim, y_dim)\n",
    ")\n",
    "\n",
    "G = G.cuda()\n",
    "D_gan = D_gan.cuda()\n",
    "D_aux = D_aux.cuda()"
   ]
  },
  {
   "cell_type": "markdown",
   "metadata": {
    "slideshow": {
     "slide_type": "slide"
    }
   },
   "source": [
    "Here, we will gather the parameters of the generator and the discriminator so that they can be given to the Adam optimizer to update the weights"
   ]
  },
  {
   "cell_type": "code",
   "execution_count": 7,
   "metadata": {
    "slideshow": {
     "slide_type": "slide"
    }
   },
   "outputs": [],
   "source": [
    "G_solver = optim.Adam(G.parameters(), lr,  betas=(0.0, 0.999))\n",
    "D_solver = optim.Adam((list(D_gan.parameters()) + list(D_aux.parameters())), lr,  betas=(0.0, 0.999))\n",
    "\n",
    "adversarial_loss = torch.nn.BCELoss()\n",
    "auxiliary_loss = torch.nn.CrossEntropyLoss()\n",
    "\n",
    "ones_label = torch.ones(mb_size,1)\n",
    "zeros_label = torch.zeros(mb_size,1)\n",
    "ones_label = ones_label.to(device)\n",
    "zeros_label = zeros_label.to(device)"
   ]
  },
  {
   "cell_type": "code",
   "execution_count": 8,
   "metadata": {},
   "outputs": [],
   "source": [
    "# Reset the gradients to zero\n",
    "params = [G, D_gan, D_aux]\n",
    "def reset_grad():\n",
    "    for net in params:\n",
    "        net.zero_grad()"
   ]
  },
  {
   "cell_type": "code",
   "execution_count": 9,
   "metadata": {},
   "outputs": [
    {
     "name": "stderr",
     "output_type": "stream",
     "text": [
      "  0%|          | 3/25000 [00:01<3:04:39,  2.26it/s]"
     ]
    },
    {
     "name": "stdout",
     "output_type": "stream",
     "text": [
      "Iter-0; D_loss: 3.60828924179; G_loss: 3.03533220291\n"
     ]
    },
    {
     "name": "stderr",
     "output_type": "stream",
     "text": [
      "  2%|▏         | 504/25000 [00:25<20:54, 19.52it/s] "
     ]
    },
    {
     "name": "stdout",
     "output_type": "stream",
     "text": [
      "Iter-500; D_loss: 2.18912601471; G_loss: 1.46033096313\n"
     ]
    },
    {
     "name": "stderr",
     "output_type": "stream",
     "text": [
      "  4%|▍         | 1004/25000 [00:50<20:00, 20.00it/s]"
     ]
    },
    {
     "name": "stdout",
     "output_type": "stream",
     "text": [
      "Iter-1000; D_loss: 2.09167671204; G_loss: 1.39837324619\n"
     ]
    },
    {
     "name": "stderr",
     "output_type": "stream",
     "text": [
      "  6%|▌         | 1505/25000 [01:14<19:25, 20.15it/s]"
     ]
    },
    {
     "name": "stdout",
     "output_type": "stream",
     "text": [
      "Iter-1500; D_loss: 2.14815282822; G_loss: 1.53330540657\n"
     ]
    },
    {
     "name": "stderr",
     "output_type": "stream",
     "text": [
      "  8%|▊         | 2005/25000 [01:38<18:54, 20.26it/s]"
     ]
    },
    {
     "name": "stdout",
     "output_type": "stream",
     "text": [
      "Iter-2000; D_loss: 2.14338326454; G_loss: 1.49346494675\n"
     ]
    },
    {
     "name": "stderr",
     "output_type": "stream",
     "text": [
      " 10%|█         | 2503/25000 [02:03<18:26, 20.33it/s]"
     ]
    },
    {
     "name": "stdout",
     "output_type": "stream",
     "text": [
      "Iter-2500; D_loss: 2.17390632629; G_loss: 1.52919101715\n"
     ]
    },
    {
     "name": "stderr",
     "output_type": "stream",
     "text": [
      " 12%|█▏        | 3004/25000 [02:27<18:02, 20.32it/s]"
     ]
    },
    {
     "name": "stdout",
     "output_type": "stream",
     "text": [
      "Iter-3000; D_loss: 2.06546926498; G_loss: 1.44068622589\n"
     ]
    },
    {
     "name": "stderr",
     "output_type": "stream",
     "text": [
      " 14%|█▍        | 3502/25000 [02:52<17:36, 20.34it/s]"
     ]
    },
    {
     "name": "stdout",
     "output_type": "stream",
     "text": [
      "Iter-3500; D_loss: 2.06196522713; G_loss: 1.43901777267\n"
     ]
    },
    {
     "name": "stderr",
     "output_type": "stream",
     "text": [
      " 16%|█▌        | 4004/25000 [03:16<17:10, 20.37it/s]"
     ]
    },
    {
     "name": "stdout",
     "output_type": "stream",
     "text": [
      "Iter-4000; D_loss: 2.09969973564; G_loss: 1.45653522015\n"
     ]
    },
    {
     "name": "stderr",
     "output_type": "stream",
     "text": [
      " 18%|█▊        | 4505/25000 [03:41<16:46, 20.37it/s]"
     ]
    },
    {
     "name": "stdout",
     "output_type": "stream",
     "text": [
      "Iter-4500; D_loss: 2.00592303276; G_loss: 1.35563850403\n"
     ]
    },
    {
     "name": "stderr",
     "output_type": "stream",
     "text": [
      " 20%|██        | 5003/25000 [04:05<16:21, 20.37it/s]"
     ]
    },
    {
     "name": "stdout",
     "output_type": "stream",
     "text": [
      "Iter-5000; D_loss: 2.14966225624; G_loss: 1.54285097122\n"
     ]
    },
    {
     "name": "stderr",
     "output_type": "stream",
     "text": [
      " 22%|██▏       | 5504/25000 [04:30<15:57, 20.36it/s]"
     ]
    },
    {
     "name": "stdout",
     "output_type": "stream",
     "text": [
      "Iter-5500; D_loss: 2.1812286377; G_loss: 1.51417815685\n"
     ]
    },
    {
     "name": "stderr",
     "output_type": "stream",
     "text": [
      " 24%|██▍       | 6005/25000 [04:54<15:32, 20.37it/s]"
     ]
    },
    {
     "name": "stdout",
     "output_type": "stream",
     "text": [
      "Iter-6000; D_loss: 2.1074051857; G_loss: 1.47207868099\n"
     ]
    },
    {
     "name": "stderr",
     "output_type": "stream",
     "text": [
      " 26%|██▌       | 6504/25000 [05:19<15:07, 20.38it/s]"
     ]
    },
    {
     "name": "stdout",
     "output_type": "stream",
     "text": [
      "Iter-6500; D_loss: 2.10796189308; G_loss: 1.46040582657\n"
     ]
    },
    {
     "name": "stderr",
     "output_type": "stream",
     "text": [
      " 28%|██▊       | 7005/25000 [05:43<14:42, 20.39it/s]"
     ]
    },
    {
     "name": "stdout",
     "output_type": "stream",
     "text": [
      "Iter-7000; D_loss: 2.24928283691; G_loss: 1.57752394676\n"
     ]
    },
    {
     "name": "stderr",
     "output_type": "stream",
     "text": [
      " 30%|███       | 7503/25000 [06:07<14:17, 20.40it/s]"
     ]
    },
    {
     "name": "stdout",
     "output_type": "stream",
     "text": [
      "Iter-7500; D_loss: 2.09075593948; G_loss: 1.46826565266\n"
     ]
    },
    {
     "name": "stderr",
     "output_type": "stream",
     "text": [
      " 32%|███▏      | 8004/25000 [06:32<13:52, 20.41it/s]"
     ]
    },
    {
     "name": "stdout",
     "output_type": "stream",
     "text": [
      "Iter-8000; D_loss: 2.14657473564; G_loss: 1.48204052448\n"
     ]
    },
    {
     "name": "stderr",
     "output_type": "stream",
     "text": [
      " 34%|███▍      | 8505/25000 [06:56<13:28, 20.41it/s]"
     ]
    },
    {
     "name": "stdout",
     "output_type": "stream",
     "text": [
      "Iter-8500; D_loss: 2.0840985775; G_loss: 1.43947088718\n"
     ]
    },
    {
     "name": "stderr",
     "output_type": "stream",
     "text": [
      " 36%|███▌      | 9004/25000 [07:21<13:03, 20.42it/s]"
     ]
    },
    {
     "name": "stdout",
     "output_type": "stream",
     "text": [
      "Iter-9000; D_loss: 2.14135193825; G_loss: 1.48622763157\n"
     ]
    },
    {
     "name": "stderr",
     "output_type": "stream",
     "text": [
      " 38%|███▊      | 9505/25000 [07:45<12:38, 20.42it/s]"
     ]
    },
    {
     "name": "stdout",
     "output_type": "stream",
     "text": [
      "Iter-9500; D_loss: 2.10759758949; G_loss: 1.43498110771\n"
     ]
    },
    {
     "name": "stderr",
     "output_type": "stream",
     "text": [
      " 40%|████      | 10005/25000 [08:09<12:13, 20.43it/s]"
     ]
    },
    {
     "name": "stdout",
     "output_type": "stream",
     "text": [
      "Iter-10000; D_loss: 2.19310450554; G_loss: 1.51621556282\n"
     ]
    },
    {
     "name": "stderr",
     "output_type": "stream",
     "text": [
      " 42%|████▏     | 10503/25000 [08:34<11:50, 20.42it/s]"
     ]
    },
    {
     "name": "stdout",
     "output_type": "stream",
     "text": [
      "Iter-10500; D_loss: 2.05718183517; G_loss: 1.4177159071\n"
     ]
    },
    {
     "name": "stderr",
     "output_type": "stream",
     "text": [
      " 44%|████▍     | 11003/25000 [08:58<11:25, 20.42it/s]"
     ]
    },
    {
     "name": "stdout",
     "output_type": "stream",
     "text": [
      "Iter-11000; D_loss: 2.10957670212; G_loss: 1.45496368408\n"
     ]
    },
    {
     "name": "stderr",
     "output_type": "stream",
     "text": [
      " 46%|████▌     | 11503/25000 [09:23<11:01, 20.42it/s]"
     ]
    },
    {
     "name": "stdout",
     "output_type": "stream",
     "text": [
      "Iter-11500; D_loss: 2.1597161293; G_loss: 1.51548504829\n"
     ]
    },
    {
     "name": "stderr",
     "output_type": "stream",
     "text": [
      " 48%|████▊     | 12005/25000 [09:47<10:36, 20.42it/s]"
     ]
    },
    {
     "name": "stdout",
     "output_type": "stream",
     "text": [
      "Iter-12000; D_loss: 2.13389420509; G_loss: 1.44077062607\n"
     ]
    },
    {
     "name": "stderr",
     "output_type": "stream",
     "text": [
      " 50%|█████     | 12505/25000 [10:12<10:11, 20.42it/s]"
     ]
    },
    {
     "name": "stdout",
     "output_type": "stream",
     "text": [
      "Iter-12500; D_loss: 2.09959888458; G_loss: 1.44594836235\n"
     ]
    },
    {
     "name": "stderr",
     "output_type": "stream",
     "text": [
      " 52%|█████▏    | 13004/25000 [10:36<09:47, 20.42it/s]"
     ]
    },
    {
     "name": "stdout",
     "output_type": "stream",
     "text": [
      "Iter-13000; D_loss: 2.10398674011; G_loss: 1.44225656986\n"
     ]
    },
    {
     "name": "stderr",
     "output_type": "stream",
     "text": [
      " 54%|█████▍    | 13504/25000 [11:01<09:22, 20.43it/s]"
     ]
    },
    {
     "name": "stdout",
     "output_type": "stream",
     "text": [
      "Iter-13500; D_loss: 2.09066057205; G_loss: 1.41666245461\n"
     ]
    },
    {
     "name": "stderr",
     "output_type": "stream",
     "text": [
      " 56%|█████▌    | 14003/25000 [11:25<08:58, 20.42it/s]"
     ]
    },
    {
     "name": "stdout",
     "output_type": "stream",
     "text": [
      "Iter-14000; D_loss: 2.06660485268; G_loss: 1.43402218819\n"
     ]
    },
    {
     "name": "stderr",
     "output_type": "stream",
     "text": [
      " 58%|█████▊    | 14504/25000 [11:50<08:33, 20.43it/s]"
     ]
    },
    {
     "name": "stdout",
     "output_type": "stream",
     "text": [
      "Iter-14500; D_loss: 2.16722154617; G_loss: 1.50286483765\n"
     ]
    },
    {
     "name": "stderr",
     "output_type": "stream",
     "text": [
      " 60%|██████    | 15003/25000 [12:14<08:09, 20.43it/s]"
     ]
    },
    {
     "name": "stdout",
     "output_type": "stream",
     "text": [
      "Iter-15000; D_loss: 2.12708091736; G_loss: 1.48583734035\n"
     ]
    },
    {
     "name": "stderr",
     "output_type": "stream",
     "text": [
      " 62%|██████▏   | 15505/25000 [12:39<07:44, 20.42it/s]"
     ]
    },
    {
     "name": "stdout",
     "output_type": "stream",
     "text": [
      "Iter-15500; D_loss: 2.19190311432; G_loss: 1.57500326633\n"
     ]
    },
    {
     "name": "stderr",
     "output_type": "stream",
     "text": [
      " 64%|██████▍   | 16003/25000 [13:03<07:20, 20.43it/s]"
     ]
    },
    {
     "name": "stdout",
     "output_type": "stream",
     "text": [
      "Iter-16000; D_loss: 2.17333078384; G_loss: 1.50699388981\n"
     ]
    },
    {
     "name": "stderr",
     "output_type": "stream",
     "text": [
      " 66%|██████▌   | 16505/25000 [13:27<06:55, 20.43it/s]"
     ]
    },
    {
     "name": "stdout",
     "output_type": "stream",
     "text": [
      "Iter-16500; D_loss: 2.21346783638; G_loss: 1.56123507023\n"
     ]
    },
    {
     "name": "stderr",
     "output_type": "stream",
     "text": [
      " 68%|██████▊   | 17005/25000 [13:51<06:31, 20.44it/s]"
     ]
    },
    {
     "name": "stdout",
     "output_type": "stream",
     "text": [
      "Iter-17000; D_loss: 2.16950702667; G_loss: 1.52551674843\n"
     ]
    },
    {
     "name": "stderr",
     "output_type": "stream",
     "text": [
      " 70%|███████   | 17505/25000 [14:16<06:06, 20.44it/s]"
     ]
    },
    {
     "name": "stdout",
     "output_type": "stream",
     "text": [
      "Iter-17500; D_loss: 2.15956449509; G_loss: 1.50691044331\n"
     ]
    },
    {
     "name": "stderr",
     "output_type": "stream",
     "text": [
      " 72%|███████▏  | 18005/25000 [14:40<05:42, 20.44it/s]"
     ]
    },
    {
     "name": "stdout",
     "output_type": "stream",
     "text": [
      "Iter-18000; D_loss: 2.01883649826; G_loss: 1.38390266895\n"
     ]
    },
    {
     "name": "stderr",
     "output_type": "stream",
     "text": [
      " 74%|███████▍  | 18503/25000 [15:05<05:17, 20.44it/s]"
     ]
    },
    {
     "name": "stdout",
     "output_type": "stream",
     "text": [
      "Iter-18500; D_loss: 2.09494447708; G_loss: 1.46881115437\n"
     ]
    },
    {
     "name": "stderr",
     "output_type": "stream",
     "text": [
      " 76%|███████▌  | 19004/25000 [15:29<04:53, 20.44it/s]"
     ]
    },
    {
     "name": "stdout",
     "output_type": "stream",
     "text": [
      "Iter-19000; D_loss: 2.15153813362; G_loss: 1.49895596504\n"
     ]
    },
    {
     "name": "stderr",
     "output_type": "stream",
     "text": [
      " 78%|███████▊  | 19505/25000 [15:54<04:28, 20.44it/s]"
     ]
    },
    {
     "name": "stdout",
     "output_type": "stream",
     "text": [
      "Iter-19500; D_loss: 2.15851330757; G_loss: 1.51371753216\n"
     ]
    },
    {
     "name": "stderr",
     "output_type": "stream",
     "text": [
      " 80%|████████  | 20004/25000 [16:18<04:04, 20.44it/s]"
     ]
    },
    {
     "name": "stdout",
     "output_type": "stream",
     "text": [
      "Iter-20000; D_loss: 2.12410616875; G_loss: 1.45151376724\n"
     ]
    },
    {
     "name": "stderr",
     "output_type": "stream",
     "text": [
      " 82%|████████▏ | 20502/25000 [16:43<03:40, 20.43it/s]"
     ]
    },
    {
     "name": "stdout",
     "output_type": "stream",
     "text": [
      "Iter-20500; D_loss: 2.01113963127; G_loss: 1.3648853302\n"
     ]
    },
    {
     "name": "stderr",
     "output_type": "stream",
     "text": [
      " 84%|████████▍ | 21005/25000 [17:07<03:15, 20.43it/s]"
     ]
    },
    {
     "name": "stdout",
     "output_type": "stream",
     "text": [
      "Iter-21000; D_loss: 1.9571441412; G_loss: 1.28509235382\n"
     ]
    },
    {
     "name": "stderr",
     "output_type": "stream",
     "text": [
      " 86%|████████▌ | 21503/25000 [17:32<02:51, 20.43it/s]"
     ]
    },
    {
     "name": "stdout",
     "output_type": "stream",
     "text": [
      "Iter-21500; D_loss: 2.21308994293; G_loss: 1.56100749969\n"
     ]
    },
    {
     "name": "stderr",
     "output_type": "stream",
     "text": [
      " 88%|████████▊ | 22006/25000 [17:55<02:26, 20.45it/s]"
     ]
    },
    {
     "name": "stdout",
     "output_type": "stream",
     "text": [
      "Iter-22000; D_loss: 2.03979992867; G_loss: 1.36998200417\n"
     ]
    },
    {
     "name": "stderr",
     "output_type": "stream",
     "text": [
      " 90%|█████████ | 22506/25000 [18:12<02:01, 20.59it/s]"
     ]
    },
    {
     "name": "stdout",
     "output_type": "stream",
     "text": [
      "Iter-22500; D_loss: 2.14792895317; G_loss: 1.48128211498\n"
     ]
    },
    {
     "name": "stderr",
     "output_type": "stream",
     "text": [
      " 92%|█████████▏| 23005/25000 [18:29<01:36, 20.73it/s]"
     ]
    },
    {
     "name": "stdout",
     "output_type": "stream",
     "text": [
      "Iter-23000; D_loss: 2.04763126373; G_loss: 1.41047239304\n"
     ]
    },
    {
     "name": "stderr",
     "output_type": "stream",
     "text": [
      " 94%|█████████▍| 23504/25000 [18:46<01:11, 20.86it/s]"
     ]
    },
    {
     "name": "stdout",
     "output_type": "stream",
     "text": [
      "Iter-23500; D_loss: 2.18771576881; G_loss: 1.50516724586\n"
     ]
    },
    {
     "name": "stderr",
     "output_type": "stream",
     "text": [
      " 96%|█████████▌| 24006/25000 [19:03<00:47, 20.99it/s]"
     ]
    },
    {
     "name": "stdout",
     "output_type": "stream",
     "text": [
      "Iter-24000; D_loss: 2.07835531235; G_loss: 1.46613729\n"
     ]
    },
    {
     "name": "stderr",
     "output_type": "stream",
     "text": [
      " 98%|█████████▊| 24505/25000 [19:20<00:23, 21.12it/s]"
     ]
    },
    {
     "name": "stdout",
     "output_type": "stream",
     "text": [
      "Iter-24500; D_loss: 1.99466705322; G_loss: 1.33105862141\n"
     ]
    },
    {
     "name": "stderr",
     "output_type": "stream",
     "text": [
      "100%|██████████| 25000/25000 [19:36<00:00, 21.24it/s]\n"
     ]
    }
   ],
   "source": [
    "data_index = 0\n",
    "for it in tqdm(range(25000)):\n",
    "    \n",
    "    # ###\n",
    "    if ((data_index + 1)*mb_size>len(data)):\n",
    "        data_index = 0\n",
    "    # ###\n",
    "    for diter in range(10):\n",
    "        z = torch.FloatTensor(mb_size, Z_dim).uniform_(-1, 1)\n",
    "        X = torch.from_numpy(np.array(data[data_index*mb_size : (data_index + 1)*mb_size]))\n",
    "        X = X.view(mb_size, 1)\n",
    "        X = X.type(torch.FloatTensor)\n",
    "\n",
    "        y = torch.from_numpy(np.array(g_classes[data_index*mb_size : (data_index + 1)*mb_size]))\n",
    "\n",
    "\n",
    "        y_one_hot = one_hot_embedding(y)\n",
    "        y_one_hot = y_one_hot.type(torch.FloatTensor)\n",
    "        y = y.type(torch.LongTensor)\n",
    "\n",
    "        X = X.to(device)\n",
    "        z = z.to(device)\n",
    "\n",
    "        y_one_hot = y_one_hot.to(device)\n",
    "        y = y.to(device)\n",
    "\n",
    "        # Dicriminator forward-loss-backward-update\n",
    "        #forward pass\n",
    "        G_sample = G(torch.cat([z, y_one_hot], 1))\n",
    "\n",
    "        D_real_gan = D_gan(X)\n",
    "        D_real_aux = D_aux(X)\n",
    "\n",
    "        D_fake_gan = D_gan(G_sample)\n",
    "        D_fake_aux = D_aux(G_sample)\n",
    "\n",
    "        # Calculate the loss\n",
    "        D_loss_real = adversarial_loss(D_real_gan, ones_label) + auxiliary_loss(D_real_aux, y) \n",
    "        D_loss_fake = adversarial_loss(D_fake_gan, zeros_label) + auxiliary_loss(D_fake_aux, y) \n",
    "\n",
    "        D_loss = D_loss_real + D_loss_fake\n",
    "\n",
    "        # Calulate and update gradients of discriminator\n",
    "        D_loss.backward()\n",
    "        D_solver.step()\n",
    "\n",
    "        # reset gradient\n",
    "        reset_grad()\n",
    "    \n",
    "    # Generator forward-loss-backward-update\n",
    "\n",
    "    G_sample = G(torch.cat([z, y_one_hot], 1))\n",
    "    \n",
    "    D_fake_gan = D_gan(G_sample)\n",
    "    D_fake_aux = D_aux(G_sample) \n",
    "    D_real_aux = D_aux(X)\n",
    "\n",
    "    G_loss = adversarial_loss(D_fake_gan, ones_label) + auxiliary_loss(D_real_aux, y) + auxiliary_loss(D_fake_aux, y)\n",
    "\n",
    "    G_loss.backward()\n",
    "    G_solver.step()\n",
    "\n",
    "    # reset gradient\n",
    "    reset_grad()\n",
    "\n",
    "    data_index = data_index + 1\n",
    "    # Print and plot every now and then\n",
    "    if it % 500 == 0:\n",
    "        print('Iter-{}; D_loss: {}; G_loss: {}'.format(it, D_loss.data.cpu().numpy(), G_loss.data.cpu().numpy()))"
   ]
  },
  {
   "cell_type": "code",
   "execution_count": 10,
   "metadata": {},
   "outputs": [
    {
     "data": {
      "image/png": "[encoded data removed]",
      "text/plain": [
       "<matplotlib.figure.Figure at 0x145f28836110>"
      ]
     },
     "metadata": {},
     "output_type": "display_data"
    }
   ],
   "source": [
    "final = np.zeros(1500*mb_size, dtype = float)\n",
    "for i in range(1500):\n",
    "\n",
    "    z = torch.FloatTensor(mb_size, Z_dim).uniform_(-1, 1)\n",
    "    z = z.to(device)\n",
    "\n",
    "    y = torch.randint(0, 3, (mb_size,)).type(torch.LongTensor)\n",
    "    y_one_hot = one_hot_embedding(y)\n",
    "    y_one_hot = y_one_hot.type(torch.FloatTensor)\n",
    "    y_one_hot = y_one_hot.to(device)\n",
    "    l = G(torch.cat([z,y_one_hot], 1)).cpu().detach().numpy()\n",
    "    final[i*mb_size : ((i+ 1)*mb_size -1)] = l[0]\n",
    "\n",
    "final = y_copy.min() + final*(y_copy.max()-y_copy.min())\n",
    "fig, ax = plt.subplots( nrows=1, ncols=1 )\n",
    "p1 = plt.hist(final, 100, normed=True, histtype='stepfilled', alpha=0.5)\n",
    "p2 = plt.hist(y_copy, 100, normed=True, histtype='stepfilled', alpha=0.5)"
   ]
  }
 ],
 "metadata": {
  "celltoolbar": "Slideshow",
  "kernelspec": {
   "display_name": "Python 2",
   "language": "python",
   "name": "python2"
  },
  "language_info": {
   "codemirror_mode": {
    "name": "ipython",
    "version": 2
   },
   "file_extension": ".py",
   "mimetype": "text/x-python",
   "name": "python",
   "nbconvert_exporter": "python",
   "pygments_lexer": "ipython2",
   "version": "2.7.12"
  }
 },
 "nbformat": 4,
 "nbformat_minor": 2
}
